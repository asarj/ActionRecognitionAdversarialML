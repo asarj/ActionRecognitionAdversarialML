{
 "cells": [
  {
   "cell_type": "code",
   "execution_count": 26,
   "metadata": {},
   "outputs": [
    {
     "data": {
      "text/plain": [
       "<module 'decord' from '/opt/conda/lib/python3.7/site-packages/decord/__init__.py'>"
      ]
     },
     "execution_count": 26,
     "metadata": {},
     "output_type": "execute_result"
    }
   ],
   "source": [
    "import matplotlib.pyplot as plt\n",
    "import numpy as np\n",
    "import mxnet as mx\n",
    "import os\n",
    "import cv2\n",
    "from mxnet import gluon, nd, image\n",
    "from gluoncv.data import Kinetics400\n",
    "from mxnet.gluon.data import DataLoader\n",
    "from mxnet.gluon.data.vision import transforms\n",
    "from gluoncv.data.transforms import video\n",
    "from gluoncv import utils\n",
    "from gluoncv.model_zoo import get_model\n",
    "from gluoncv.utils.filesystem import import_try_install\n",
    "import_try_install('decord')"
   ]
  },
  {
   "cell_type": "code",
   "execution_count": 35,
   "metadata": {},
   "outputs": [],
   "source": [
    "# Load dataset into memory\n",
    "transform_val = transforms.Compose([\n",
    "    video.VideoCenterCrop(size=224),\n",
    "    video.VideoToTensor()\n",
    "])\n",
    "\n",
    "val_dataset = Kinetics400(root=os.path.expanduser('./val/'), \n",
    "                          train=False,\n",
    "                          transform=transform_val, \n",
    "                          video_loader=True, \n",
    "                          use_decord=True)\n",
    "val_data = DataLoader(val_dataset, batch_size=8, shuffle=True)"
   ]
  },
  {
   "cell_type": "code",
   "execution_count": 36,
   "metadata": {},
   "outputs": [
    {
     "name": "stdout",
     "output_type": "stream",
     "text": [
      "Video frame size (batch, extra, channel, depth, height, width): (8, 1, 3, 224, 224)\n",
      "Video label: (8,)\n"
     ]
    }
   ],
   "source": [
    "for x, y in val_data:\n",
    "    print('Video frame size (batch, extra, channel, depth, height, width):', x.shape)\n",
    "    print('Video label:', y.shape)\n",
    "    break"
   ]
  },
  {
   "cell_type": "code",
   "execution_count": 54,
   "metadata": {},
   "outputs": [
    {
     "data": {
      "text/html": [
       "<div>\n",
       "<style scoped>\n",
       "    .dataframe tbody tr th:only-of-type {\n",
       "        vertical-align: middle;\n",
       "    }\n",
       "\n",
       "    .dataframe tbody tr th {\n",
       "        vertical-align: top;\n",
       "    }\n",
       "\n",
       "    .dataframe thead th {\n",
       "        text-align: right;\n",
       "    }\n",
       "</style>\n",
       "<table border=\"1\" class=\"dataframe\">\n",
       "  <thead>\n",
       "    <tr style=\"text-align: right;\">\n",
       "      <th></th>\n",
       "      <th>path</th>\n",
       "      <th>class</th>\n",
       "    </tr>\n",
       "  </thead>\n",
       "  <tbody>\n",
       "    <tr>\n",
       "      <th>0</th>\n",
       "      <td>../val/abseiling/0wR5jVB-WPk_000417_000427.mp4</td>\n",
       "      <td>0</td>\n",
       "    </tr>\n",
       "    <tr>\n",
       "      <th>1</th>\n",
       "      <td>../val/abseiling/3caPS4FHFF8_000036_000046.mp4</td>\n",
       "      <td>0</td>\n",
       "    </tr>\n",
       "    <tr>\n",
       "      <th>2</th>\n",
       "      <td>../val/abseiling/3yaoNwz99xM_000062_000072.mp4</td>\n",
       "      <td>0</td>\n",
       "    </tr>\n",
       "    <tr>\n",
       "      <th>3</th>\n",
       "      <td>../val/abseiling/6IbvOJxXnOo_000047_000057.mp4</td>\n",
       "      <td>0</td>\n",
       "    </tr>\n",
       "    <tr>\n",
       "      <th>4</th>\n",
       "      <td>../val/abseiling/6_4kjPiQr7w_000191_000201.mp4</td>\n",
       "      <td>0</td>\n",
       "    </tr>\n",
       "    <tr>\n",
       "      <th>...</th>\n",
       "      <td>...</td>\n",
       "      <td>...</td>\n",
       "    </tr>\n",
       "    <tr>\n",
       "      <th>2682</th>\n",
       "      <td>../val/cleaning_pool/8VU1bT5Zork_000215_000225...</td>\n",
       "      <td>62</td>\n",
       "    </tr>\n",
       "    <tr>\n",
       "      <th>2683</th>\n",
       "      <td>../val/cleaning_pool/AFvEYQkSmfk_000123_000133...</td>\n",
       "      <td>62</td>\n",
       "    </tr>\n",
       "    <tr>\n",
       "      <th>2684</th>\n",
       "      <td>../val/cleaning_pool/AHiu-Okbhho_000008_000018...</td>\n",
       "      <td>62</td>\n",
       "    </tr>\n",
       "    <tr>\n",
       "      <th>2685</th>\n",
       "      <td>../val/cleaning_pool/B8uJabL49FI_000074_000084...</td>\n",
       "      <td>62</td>\n",
       "    </tr>\n",
       "    <tr>\n",
       "      <th>2686</th>\n",
       "      <td>../val/cleaning_pool/C15UXKIXTVU_000156_000166...</td>\n",
       "      <td>62</td>\n",
       "    </tr>\n",
       "  </tbody>\n",
       "</table>\n",
       "<p>2687 rows × 2 columns</p>\n",
       "</div>"
      ],
      "text/plain": [
       "                                                   path  class\n",
       "0        ../val/abseiling/0wR5jVB-WPk_000417_000427.mp4      0\n",
       "1        ../val/abseiling/3caPS4FHFF8_000036_000046.mp4      0\n",
       "2        ../val/abseiling/3yaoNwz99xM_000062_000072.mp4      0\n",
       "3        ../val/abseiling/6IbvOJxXnOo_000047_000057.mp4      0\n",
       "4        ../val/abseiling/6_4kjPiQr7w_000191_000201.mp4      0\n",
       "...                                                 ...    ...\n",
       "2682  ../val/cleaning_pool/8VU1bT5Zork_000215_000225...     62\n",
       "2683  ../val/cleaning_pool/AFvEYQkSmfk_000123_000133...     62\n",
       "2684  ../val/cleaning_pool/AHiu-Okbhho_000008_000018...     62\n",
       "2685  ../val/cleaning_pool/B8uJabL49FI_000074_000084...     62\n",
       "2686  ../val/cleaning_pool/C15UXKIXTVU_000156_000166...     62\n",
       "\n",
       "[2687 rows x 2 columns]"
      ]
     },
     "execution_count": 54,
     "metadata": {},
     "output_type": "execute_result"
    }
   ],
   "source": [
    "import pandas as pd\n",
    "\n",
    "val_dataset = pd.read_csv(\"~/.mxnet/datasets/kinetics400/kinetics400_train_list_rawframes.txt\", \n",
    "                          header=None, \n",
    "                          delimiter=r\"\\s+\",\n",
    "                          names=[\"path\", \"frames\", \"class\"])\n",
    "val_dataset.drop([\"frames\"], axis=1, inplace=True)\n",
    "271\n",
    "\n",
    "val_dataset['path'] = '../val/' + val_dataset['path'].astype(str) + \".mp4\"\n",
    "val_dataset.to_csv('test.csv', header=False, index=False, sep=' ')"
   ]
  },
  {
   "cell_type": "code",
   "execution_count": null,
   "metadata": {},
   "outputs": [],
   "source": [
    "# Run this in the slowfast directory\n",
    "python3 tools/run_net.py \\\n",
    "  --cfg configs/Kinetics/X3D_L.yaml \\\n",
    "  DATA.PATH_TO_DATA_DIR \"../\" \\\n",
    "  DATA.PATH_LABEL_SEPARATOR \" \" \\\n",
    "  DATA.DECODING_BACKEND \"pyav\" \\\n",
    "  TRAIN.ENABLE False \\\n",
    "  NUM_GPUS 1 \\\n",
    "  TEST.BATCH_SIZE 4"
   ]
  }
 ],
 "metadata": {
  "kernelspec": {
   "display_name": "Python 3",
   "language": "python",
   "name": "python3"
  },
  "language_info": {
   "codemirror_mode": {
    "name": "ipython",
    "version": 3
   },
   "file_extension": ".py",
   "mimetype": "text/x-python",
   "name": "python",
   "nbconvert_exporter": "python",
   "pygments_lexer": "ipython3",
   "version": "3.7.7"
  }
 },
 "nbformat": 4,
 "nbformat_minor": 4
}
