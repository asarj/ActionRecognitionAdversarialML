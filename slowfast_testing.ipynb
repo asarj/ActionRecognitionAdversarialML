{
 "cells": [
  {
   "cell_type": "code",
   "execution_count": 10,
   "metadata": {},
   "outputs": [
    {
     "name": "stdout",
     "output_type": "stream",
     "text": [
      "Collecting numpy\n",
      "  Using cached numpy-1.20.2-cp37-cp37m-manylinux2010_x86_64.whl (15.3 MB)\n",
      "Collecting pandas\n",
      "  Using cached pandas-1.2.3-cp37-cp37m-manylinux1_x86_64.whl (9.9 MB)\n",
      "Collecting matplotlib\n",
      "  Using cached matplotlib-3.4.0-cp37-cp37m-manylinux1_x86_64.whl (10.3 MB)\n",
      "Collecting opencv-python\n",
      "  Using cached opencv_python-4.5.1.48-cp37-cp37m-manylinux2014_x86_64.whl (50.4 MB)\n",
      "Collecting mxnet\n",
      "  Using cached mxnet-1.8.0.post0-py2.py3-none-manylinux2014_x86_64.whl (46.9 MB)\n",
      "Collecting gluoncv\n",
      "  Using cached gluoncv-0.10.1-py3-none-any.whl (1.1 MB)\n",
      "Collecting pytz>=2017.3\n",
      "  Using cached pytz-2021.1-py2.py3-none-any.whl (510 kB)\n",
      "Requirement already satisfied: python-dateutil>=2.7.3 in /opt/conda/lib/python3.7/site-packages (from pandas) (2.8.1)\n",
      "Collecting pillow>=6.2.0\n",
      "  Using cached Pillow-8.1.2-cp37-cp37m-manylinux1_x86_64.whl (2.2 MB)\n",
      "Collecting cycler>=0.10\n",
      "  Using cached cycler-0.10.0-py2.py3-none-any.whl (6.5 kB)\n",
      "Requirement already satisfied: pyparsing>=2.2.1 in /opt/conda/lib/python3.7/site-packages (from matplotlib) (2.4.7)\n",
      "Collecting kiwisolver>=1.0.1\n",
      "  Using cached kiwisolver-1.3.1-cp37-cp37m-manylinux1_x86_64.whl (1.1 MB)\n",
      "Requirement already satisfied: requests<3,>=2.20.0 in /opt/conda/lib/python3.7/site-packages (from mxnet) (2.24.0)\n",
      "Collecting graphviz<0.9.0,>=0.8.1\n",
      "  Using cached graphviz-0.8.4-py2.py3-none-any.whl (16 kB)\n",
      "Collecting scipy\n",
      "  Using cached scipy-1.6.2-cp37-cp37m-manylinux1_x86_64.whl (27.4 MB)\n",
      "Requirement already satisfied: tqdm in /opt/conda/lib/python3.7/site-packages (from gluoncv) (4.46.1)\n",
      "Collecting pyyaml\n",
      "  Using cached PyYAML-5.4.1-cp37-cp37m-manylinux1_x86_64.whl (636 kB)\n",
      "Collecting autocfg\n",
      "  Using cached autocfg-0.0.8-py3-none-any.whl (13 kB)\n",
      "Collecting autogluon.core\n",
      "  Using cached autogluon.core-0.1.0-py3-none-any.whl (311 kB)\n",
      "Collecting decord\n",
      "  Using cached decord-0.5.2-py3-none-manylinux2010_x86_64.whl (14.1 MB)\n",
      "Collecting yacs\n",
      "  Using cached yacs-0.1.8-py3-none-any.whl (14 kB)\n",
      "Collecting portalocker\n",
      "  Using cached portalocker-2.3.0-py2.py3-none-any.whl (15 kB)\n",
      "Collecting tensorboardx\n",
      "  Using cached tensorboardX-2.1-py2.py3-none-any.whl (308 kB)\n",
      "Requirement already satisfied: six>=1.5 in /opt/conda/lib/python3.7/site-packages (from python-dateutil>=2.7.3->pandas) (1.15.0)\n",
      "Requirement already satisfied: certifi>=2017.4.17 in /opt/conda/lib/python3.7/site-packages (from requests<3,>=2.20.0->mxnet) (2020.6.20)\n",
      "Requirement already satisfied: idna<3,>=2.5 in /opt/conda/lib/python3.7/site-packages (from requests<3,>=2.20.0->mxnet) (2.9)\n",
      "Requirement already satisfied: chardet<4,>=3.0.2 in /opt/conda/lib/python3.7/site-packages (from requests<3,>=2.20.0->mxnet) (3.0.4)\n",
      "Requirement already satisfied: urllib3!=1.25.0,!=1.25.1,<1.26,>=1.21.1 in /opt/conda/lib/python3.7/site-packages (from requests<3,>=2.20.0->mxnet) (1.25.9)\n",
      "Requirement already satisfied: tornado>=5.0.1 in /opt/conda/lib/python3.7/site-packages (from autogluon.core->gluoncv) (6.0.4)\n",
      "Collecting dill==0.3.3\n",
      "  Using cached dill-0.3.3-py2.py3-none-any.whl (81 kB)\n",
      "Collecting scikit-learn<0.25,>=0.22.0\n",
      "  Using cached scikit_learn-0.24.1-cp37-cp37m-manylinux2010_x86_64.whl (22.3 MB)\n",
      "Processing /home/jovyan/.cache/pip/wheels/36/f7/0f/36f368c419ea1a8024fc3d6c078c3111dfef43fa1d14cfebe0/ConfigSpace-0.4.18-cp37-cp37m-linux_x86_64.whl\n",
      "Collecting dask>=2.6.0\n",
      "  Using cached dask-2021.3.1-py3-none-any.whl (935 kB)\n",
      "Processing /home/jovyan/.cache/pip/wheels/ef/32/31/0e87227cd0ca1d99ad51fbe4b54c6fa02afccf7e483d045e04/autograd-1.3-py3-none-any.whl\n",
      "Collecting paramiko>=2.4\n",
      "  Using cached paramiko-2.7.2-py2.py3-none-any.whl (206 kB)\n",
      "Collecting distributed>=2.6.0\n",
      "  Using cached distributed-2021.3.1-py3-none-any.whl (679 kB)\n",
      "Processing /home/jovyan/.cache/pip/wheels/dc/f0/31/eaae301ac033ffbad5caf5cc9bcdf21509d148879f2b9a241f/boto3-1.17.40-py2.py3-none-any.whl\n",
      "Collecting cython\n",
      "  Using cached Cython-0.29.22-cp37-cp37m-manylinux1_x86_64.whl (2.0 MB)\n",
      "Collecting protobuf>=3.8.0\n",
      "  Using cached protobuf-3.15.6-cp37-cp37m-manylinux1_x86_64.whl (1.0 MB)\n",
      "Collecting joblib>=0.11\n",
      "  Using cached joblib-1.0.1-py3-none-any.whl (303 kB)\n",
      "Collecting threadpoolctl>=2.0.0\n",
      "  Using cached threadpoolctl-2.1.0-py3-none-any.whl (12 kB)\n",
      "Collecting toolz>=0.8.2\n",
      "  Using cached toolz-0.11.1-py3-none-any.whl (55 kB)\n",
      "Collecting partd>=0.3.10\n",
      "  Using cached partd-1.1.0-py3-none-any.whl (19 kB)\n",
      "Collecting fsspec>=0.6.0\n",
      "  Using cached fsspec-0.8.7-py3-none-any.whl (103 kB)\n",
      "Collecting cloudpickle>=1.1.1\n",
      "  Using cached cloudpickle-1.6.0-py3-none-any.whl (23 kB)\n",
      "Processing /home/jovyan/.cache/pip/wheels/56/b0/fe/4410d17b32f1f0c3cf54cdfb2bc04d7b4b8f4ae377e2229ba0/future-0.18.2-py3-none-any.whl\n",
      "Collecting pynacl>=1.0.1\n",
      "  Using cached PyNaCl-1.4.0-cp35-abi3-manylinux1_x86_64.whl (961 kB)\n",
      "Collecting bcrypt>=3.1.3\n",
      "  Using cached bcrypt-3.2.0-cp36-abi3-manylinux2010_x86_64.whl (63 kB)\n",
      "Requirement already satisfied: cryptography>=2.5 in /opt/conda/lib/python3.7/site-packages (from paramiko>=2.4->autogluon.core->gluoncv) (2.9.2)\n",
      "Collecting zict>=0.1.3\n",
      "  Using cached zict-2.0.0-py3-none-any.whl (10 kB)\n",
      "Collecting psutil>=5.0\n",
      "  Using cached psutil-5.8.0-cp37-cp37m-manylinux2010_x86_64.whl (296 kB)\n",
      "Requirement already satisfied: setuptools in /opt/conda/lib/python3.7/site-packages (from distributed>=2.6.0->autogluon.core->gluoncv) (47.3.1.post20200616)\n",
      "Collecting msgpack>=0.6.0\n",
      "  Using cached msgpack-1.0.2-cp37-cp37m-manylinux1_x86_64.whl (273 kB)\n",
      "Collecting click>=6.6\n",
      "  Using cached click-7.1.2-py2.py3-none-any.whl (82 kB)\n",
      "Collecting tblib>=1.6.0\n",
      "  Using cached tblib-1.7.0-py2.py3-none-any.whl (12 kB)\n",
      "Collecting sortedcontainers!=2.0.0,!=2.0.1\n",
      "  Using cached sortedcontainers-2.3.0-py2.py3-none-any.whl (29 kB)\n",
      "Collecting s3transfer<0.4.0,>=0.3.0\n",
      "  Using cached s3transfer-0.3.6-py2.py3-none-any.whl (73 kB)\n",
      "Collecting jmespath<1.0.0,>=0.7.1\n",
      "  Using cached jmespath-0.10.0-py2.py3-none-any.whl (24 kB)\n",
      "Collecting botocore<1.21.0,>=1.20.40\n",
      "  Using cached botocore-1.20.40-py2.py3-none-any.whl (7.3 MB)\n",
      "Collecting locket\n",
      "  Using cached locket-0.2.1-py2.py3-none-any.whl (4.1 kB)\n",
      "Requirement already satisfied: importlib-metadata; python_version < \"3.8\" in /opt/conda/lib/python3.7/site-packages (from fsspec>=0.6.0->dask>=2.6.0->autogluon.core->gluoncv) (1.6.1)\n",
      "Requirement already satisfied: cffi>=1.4.1 in /opt/conda/lib/python3.7/site-packages (from pynacl>=1.0.1->paramiko>=2.4->autogluon.core->gluoncv) (1.14.0)\n",
      "Collecting heapdict\n",
      "  Using cached HeapDict-1.0.1-py3-none-any.whl (3.9 kB)\n",
      "Requirement already satisfied: zipp>=0.5 in /opt/conda/lib/python3.7/site-packages (from importlib-metadata; python_version < \"3.8\"->fsspec>=0.6.0->dask>=2.6.0->autogluon.core->gluoncv) (3.1.0)\n",
      "Requirement already satisfied: pycparser in /opt/conda/lib/python3.7/site-packages (from cffi>=1.4.1->pynacl>=1.0.1->paramiko>=2.4->autogluon.core->gluoncv) (2.20)\n",
      "\u001b[31mERROR: autogluon-core 0.1.0 has requirement numpy==1.19.5, but you'll have numpy 1.20.2 which is incompatible.\u001b[0m\n",
      "\u001b[31mERROR: autogluon-core 0.1.0 has requirement scipy==1.5.4, but you'll have scipy 1.6.2 which is incompatible.\u001b[0m\n",
      "Installing collected packages: numpy, pytz, pandas, pillow, cycler, kiwisolver, matplotlib, opencv-python, graphviz, mxnet, scipy, pyyaml, autocfg, dill, joblib, threadpoolctl, scikit-learn, cython, ConfigSpace, toolz, locket, partd, fsspec, cloudpickle, dask, future, autograd, pynacl, bcrypt, paramiko, heapdict, zict, psutil, msgpack, click, tblib, sortedcontainers, distributed, jmespath, botocore, s3transfer, boto3, autogluon.core, decord, yacs, portalocker, protobuf, tensorboardx, gluoncv\n",
      "Successfully installed ConfigSpace-0.4.18 autocfg-0.0.8 autogluon.core-0.1.0 autograd-1.3 bcrypt-3.2.0 boto3-1.17.40 botocore-1.20.40 click-7.1.2 cloudpickle-1.6.0 cycler-0.10.0 cython-0.29.22 dask-2021.3.1 decord-0.5.2 dill-0.3.3 distributed-2021.3.1 fsspec-0.8.7 future-0.18.2 gluoncv-0.10.1 graphviz-0.8.4 heapdict-1.0.1 jmespath-0.10.0 joblib-1.0.1 kiwisolver-1.3.1 locket-0.2.1 matplotlib-3.4.0 msgpack-1.0.2 mxnet-1.8.0.post0 numpy-1.20.2 opencv-python-4.5.1.48 pandas-1.2.3 paramiko-2.7.2 partd-1.1.0 pillow-8.1.2 portalocker-2.3.0 protobuf-3.15.6 psutil-5.8.0 pynacl-1.4.0 pytz-2021.1 pyyaml-5.4.1 s3transfer-0.3.6 scikit-learn-0.24.1 scipy-1.6.2 sortedcontainers-2.3.0 tblib-1.7.0 tensorboardx-2.1 threadpoolctl-2.1.0 toolz-0.11.1 yacs-0.1.8 zict-2.0.0\n"
     ]
    }
   ],
   "source": [
    "!pip3 install numpy pandas matplotlib opencv-python mxnet gluoncv"
   ]
  },
  {
   "cell_type": "code",
   "execution_count": 11,
   "metadata": {},
   "outputs": [
    {
     "data": {
      "text/plain": [
       "<module 'decord' from '/opt/conda/lib/python3.7/site-packages/decord/__init__.py'>"
      ]
     },
     "execution_count": 11,
     "metadata": {},
     "output_type": "execute_result"
    }
   ],
   "source": [
    "import matplotlib.pyplot as plt\n",
    "import numpy as np\n",
    "import mxnet as mx\n",
    "import os\n",
    "import cv2\n",
    "from mxnet import gluon, nd, image\n",
    "from gluoncv.data import Kinetics400\n",
    "from mxnet.gluon.data import DataLoader\n",
    "from mxnet.gluon.data.vision import transforms\n",
    "from gluoncv.data.transforms import video\n",
    "from gluoncv import utils\n",
    "from gluoncv.model_zoo import get_model\n",
    "from gluoncv.utils.filesystem import import_try_install\n",
    "import_try_install('decord')"
   ]
  },
  {
   "cell_type": "code",
   "execution_count": 12,
   "metadata": {},
   "outputs": [],
   "source": [
    "# Load dataset into memory\n",
    "transform_val = transforms.Compose([\n",
    "    video.VideoCenterCrop(size=224),\n",
    "    video.VideoToTensor()\n",
    "])\n",
    "\n",
    "val_dataset = Kinetics400(root=os.path.expanduser('./val/'), \n",
    "                          train=False,\n",
    "                          transform=transform_val, \n",
    "                          video_loader=True, \n",
    "                          use_decord=True)\n",
    "val_data = DataLoader(val_dataset, batch_size=8, shuffle=True)"
   ]
  },
  {
   "cell_type": "code",
   "execution_count": 13,
   "metadata": {},
   "outputs": [
    {
     "name": "stdout",
     "output_type": "stream",
     "text": [
      "Video frame size (batch, extra, channel, depth, height, width): (8, 1, 3, 224, 224)\n",
      "Video label: (8,)\n"
     ]
    }
   ],
   "source": [
    "for x, y in val_data:\n",
    "    print('Video frame size (batch, extra, channel, depth, height, width):', x.shape)\n",
    "    print('Video label:', y.shape)\n",
    "    break"
   ]
  },
  {
   "cell_type": "code",
   "execution_count": 14,
   "metadata": {},
   "outputs": [],
   "source": [
    "# For running on a random sample of 500 videos\n",
    "import pandas as pd\n",
    "\n",
    "val_dataset = pd.read_csv(\"~/.mxnet/datasets/kinetics400/kinetics400_train_list_rawframes.txt\", \n",
    "                          header=None, \n",
    "                          delimiter=r\"\\s+\",\n",
    "                          names=[\"path\", \"frames\", \"class\"])\n",
    "val_dataset.drop([\"frames\"], axis=1, inplace=True)\n",
    "271\n",
    "\n",
    "val_dataset['path'] = '../val/' + val_dataset['path'].astype(str) + \".mp4\"\n",
    "val_dataset.sample(n=500).to_csv('test.csv', header=False, index=False, sep=' ')"
   ]
  },
  {
   "cell_type": "code",
   "execution_count": null,
   "metadata": {},
   "outputs": [],
   "source": [
    "# Run this cell to get results on the full size\n",
    "val_dataset = pd.read_csv(\"~/.mxnet/datasets/kinetics400/kinetics400_train_list_rawframes.txt\", \n",
    "                          header=None, \n",
    "                          delimiter=r\"\\s+\",\n",
    "                          names=[\"path\", \"frames\", \"class\"])\n",
    "val_dataset.drop([\"frames\"], axis=1, inplace=True)\n",
    "271\n",
    "\n",
    "val_dataset['path'] = '../val/' + val_dataset['path'].astype(str) + \".mp4\"\n",
    "val_dataset.to_csv('test.csv', header=False, index=False, sep=' ')"
   ]
  },
  {
   "cell_type": "raw",
   "metadata": {},
   "source": [
    "# Run this in the slowfast directory to see results\n",
    "python3 tools/run_net.py \\\n",
    "  --cfg configs/Kinetics/X3D_L.yaml \\\n",
    "  DATA.PATH_TO_DATA_DIR \"../\" \\\n",
    "  DATA.PATH_LABEL_SEPARATOR \" \" \\\n",
    "  DATA.DECODING_BACKEND \"pyav\" \\\n",
    "  TRAIN.ENABLE False \\\n",
    "  NUM_GPUS 1 \\\n",
    "  TRAIN.BATCH_SIZE 1 \\\n",
    "  TEST.BATCH_SIZE 1 "
   ]
  }
 ],
 "metadata": {
  "kernelspec": {
   "display_name": "Python 3",
   "language": "python",
   "name": "python3"
  },
  "language_info": {
   "codemirror_mode": {
    "name": "ipython",
    "version": 3
   },
   "file_extension": ".py",
   "mimetype": "text/x-python",
   "name": "python",
   "nbconvert_exporter": "python",
   "pygments_lexer": "ipython3",
   "version": "3.7.7"
  }
 },
 "nbformat": 4,
 "nbformat_minor": 4
}
