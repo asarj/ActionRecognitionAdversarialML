{
 "cells": [
  {
   "cell_type": "code",
   "execution_count": 28,
   "metadata": {},
   "outputs": [
    {
     "name": "stdout",
     "output_type": "stream",
     "text": [
      "Requirement already satisfied: numpy in /opt/conda/lib/python3.7/site-packages (1.20.2)\n",
      "Requirement already satisfied: pandas in /opt/conda/lib/python3.7/site-packages (1.2.3)\n",
      "Requirement already satisfied: matplotlib in /opt/conda/lib/python3.7/site-packages (3.4.0)\n",
      "Requirement already satisfied: opencv-python in /opt/conda/lib/python3.7/site-packages (4.5.1.48)\n",
      "Requirement already satisfied: mxnet in /opt/conda/lib/python3.7/site-packages (1.8.0.post0)\n",
      "Requirement already satisfied: gluoncv in /opt/conda/lib/python3.7/site-packages (0.10.1)\n",
      "Collecting tensorflow\n",
      "  Downloading tensorflow-2.4.1-cp37-cp37m-manylinux2010_x86_64.whl (394.3 MB)\n",
      "\u001b[K     |████████████████████████████████| 394.3 MB 330 bytes/s  0:00:013  |                                | 317 kB 506 kB/s eta 0:12:59     |▊                               | 9.2 MB 1.0 MB/s eta 0:06:20     |▉                               | 10.6 MB 1.0 MB/s eta 0:06:14     |██                              | 25.2 MB 1.1 MB/s eta 0:05:4826.8 MB 1.0 MB/s eta 0:05:5928.0 MB 1.0 MB/s eta 0:05:58     |██▌                             | 31.1 MB 1.0 MB/s eta 0:05:53     |████▍                           | 54.0 MB 1.5 MB/s eta 0:03:41     |█████                           | 61.3 MB 1.1 MB/s eta 0:05:00     |█████▍                          | 66.1 MB 1.0 MB/s eta 0:05:22█▏                         | 75.4 MB 29.5 MB/s eta 0:00:11     |██████▏                         | 76.5 MB 29.5 MB/s eta 0:00:11     |██████▎                         | 77.9 MB 519 kB/s eta 0:10:09     |██████▍                         | 79.0 MB 1.0 MB/s eta 0:05:06 MB 1.0 MB/s eta 0:04:55 MB 1.0 MB/s eta 0:04:52     |███████▋                        | 94.4 MB 517 kB/s eta 0:09:40     |███████▊                        | 95.1 MB 517 kB/s eta 0:09:39     |███████▉                        | 96.2 MB 1.0 MB/s eta 0:04:5218     |█████████▏                      | 112.5 MB 1.0 MB/s eta 0:04:36     |█████████▍                      | 115.7 MB 1.0 MB/s eta 0:04:29     |█████████▌                      | 117.1 MB 1.0 MB/s eta 0:04:30               | 117.4 MB 1.0 MB/s eta 0:04:30    |██████████▋                     | 131.3 MB 1.0 MB/s eta 0:04:16     |███████████▍                    | 139.8 MB 1.5 MB/s eta 0:02:47      | 141.0 MB 1.1 MB/s eta 0:03:51     |███████████▌                    | 141.7 MB 1.1 MB/s eta 0:03:51     |███████████▋                    | 142.6 MB 1.1 MB/s eta 0:03:59     |█████████████                   | 159.5 MB 1.0 MB/s eta 0:03:51     |██████████████                  | 172.5 MB 516 kB/s eta 0:07:10     |██████████████                  | 172.7 MB 516 kB/s eta 0:07:09███▏                 | 174.8 MB 1.0 MB/s eta 0:03:38███▎                 | 176.0 MB 1.0 MB/s eta 0:03:34███▍                 | 177.2 MB 1.0 MB/s eta 0:03:33     |███████████████▎                | 188.3 MB 1.0 MB/s eta 0:03:21     |███████████████▍                | 189.6 MB 1.0 MB/s eta 0:03:20     |███████████████▍                | 189.7 MB 1.0 MB/s eta 0:03:20     |███████████████▋                | 192.3 MB 1.0 MB/s eta 0:03:18█▏              | 210.9 MB 1.7 MB/s eta 0:01:47     |█████████████████▋              | 217.2 MB 1.0 MB/s eta 0:02:55�█████▉             | 232.0 MB 29.4 MB/s eta 0:00:06     |██████████████████▉             | 232.6 MB 1.0 MB/s eta 0:02:38     |███████████████████             | 232.9 MB 1.0 MB/s eta 0:02:38     |███████████████████             | 235.5 MB 1.0 MB/s eta 0:02:35�████████            | 247.8 MB 1.5 MB/s eta 0:01:41.5 MB/s eta 0:01:41��           | 248.3 MB 1.5 MB/s eta 0:01:40     |█████████████████████▌          | 265.5 MB 1.0 MB/s eta 0:02:06     |█████████████████████▋          | 266.3 MB 1.0 MB/s eta 0:02:05     |█████████████████████▉          | 269.4 MB 1.0 MB/s eta 0:02:02█████▏        | 285.5 MB 1.7 MB/s eta 0:01:04██████        | 295.8 MB 1.7 MB/s eta 0:00:58     |████████████████████████▎       | 299.4 MB 34.0 MB/s eta 0:00:03��████████████████▍       | 300.3 MB 34.0 MB/s eta 0:00:03     |█████████████████████████▋      | 315.9 MB 1.0 MB/s eta 0:01:16     |█████████████████████████▊      | 317.0 MB 518 kB/s eta 0:02:30     |█████████████████████████▉      | 317.9 MB 1.0 MB/s eta 0:01:15     |█████████████████████████▉      | 318.5 MB 1.0 MB/s eta 0:01:15     |███████████████████████████     | 333.1 MB 1.8 MB/s eta 0:00:35████▏    | 334.2 MB 529 kB/s eta 0:01:54�█████████████████████████▏    | 334.3 MB 517 kB/s eta 0:01:56     |███████████████████████████▎    | 336.7 MB 1.0 MB/s eta 0:00:57��███████████████████▏   | 347.5 MB 1.0 MB/s eta 0:00:46     |████████████████████████████▎   | 348.3 MB 1.1 MB/s eta 0:00:42��███████████████████▎   | 348.5 MB 1.1 MB/s eta 0:00:42     |████████████████████████████▎   | 348.8 MB 1.1 MB/s eta 0:00:42     |████████████████████████████▍   | 349.5 MB 1.0 MB/s eta 0:00:44     |████████████████████████████▍   | 350.0 MB 1.0 MB/s eta 0:00:44    |█████████████████████████████▌  | 363.4 MB 1.1 MB/s eta 0:00:282 MB 1.4 MB/s eta 0:00:15\n",
      "\u001b[?25hRequirement already satisfied: tensorboard in /opt/conda/lib/python3.7/site-packages (2.4.1)\n",
      "Requirement already satisfied: python-dateutil>=2.7.3 in /opt/conda/lib/python3.7/site-packages (from pandas) (2.8.1)\n",
      "Requirement already satisfied: pytz>=2017.3 in /opt/conda/lib/python3.7/site-packages (from pandas) (2021.1)\n",
      "Requirement already satisfied: kiwisolver>=1.0.1 in /opt/conda/lib/python3.7/site-packages (from matplotlib) (1.3.1)\n",
      "Requirement already satisfied: cycler>=0.10 in /opt/conda/lib/python3.7/site-packages (from matplotlib) (0.10.0)\n",
      "Requirement already satisfied: pyparsing>=2.2.1 in /opt/conda/lib/python3.7/site-packages (from matplotlib) (2.4.7)\n",
      "Requirement already satisfied: pillow>=6.2.0 in /opt/conda/lib/python3.7/site-packages (from matplotlib) (8.1.2)\n",
      "Requirement already satisfied: graphviz<0.9.0,>=0.8.1 in /opt/conda/lib/python3.7/site-packages (from mxnet) (0.8.4)\n",
      "Requirement already satisfied: requests<3,>=2.20.0 in /opt/conda/lib/python3.7/site-packages (from mxnet) (2.24.0)\n",
      "Requirement already satisfied: decord in /opt/conda/lib/python3.7/site-packages (from gluoncv) (0.5.2)\n",
      "Requirement already satisfied: scipy in /opt/conda/lib/python3.7/site-packages (from gluoncv) (1.6.2)\n",
      "Requirement already satisfied: tensorboardx in /opt/conda/lib/python3.7/site-packages (from gluoncv) (2.1)\n",
      "Requirement already satisfied: pyyaml in /opt/conda/lib/python3.7/site-packages (from gluoncv) (5.4.1)\n",
      "Requirement already satisfied: tqdm in /opt/conda/lib/python3.7/site-packages (from gluoncv) (4.46.1)\n",
      "Requirement already satisfied: autocfg in /opt/conda/lib/python3.7/site-packages (from gluoncv) (0.0.8)\n",
      "Requirement already satisfied: autogluon.core in /opt/conda/lib/python3.7/site-packages (from gluoncv) (0.1.0)\n",
      "Requirement already satisfied: portalocker in /opt/conda/lib/python3.7/site-packages (from gluoncv) (2.3.0)\n",
      "Requirement already satisfied: yacs in /opt/conda/lib/python3.7/site-packages (from gluoncv) (0.1.8)\n",
      "Collecting flatbuffers~=1.12.0\n",
      "  Downloading flatbuffers-1.12-py2.py3-none-any.whl (15 kB)\n",
      "Collecting astunparse~=1.6.3\n",
      "  Downloading astunparse-1.6.3-py2.py3-none-any.whl (12 kB)\n",
      "Collecting google-pasta~=0.2\n",
      "  Downloading google_pasta-0.2.0-py3-none-any.whl (57 kB)\n",
      "\u001b[K     |████████████████████████████████| 57 kB 427 kB/s  eta 0:00:01\n",
      "\u001b[?25hCollecting keras-preprocessing~=1.1.2\n",
      "  Downloading Keras_Preprocessing-1.1.2-py2.py3-none-any.whl (42 kB)\n",
      "\u001b[K     |████████████████████████████████| 42 kB 76 kB/s s eta 0:00:01\n",
      "\u001b[?25hProcessing /home/jovyan/.cache/pip/wheels/3f/e3/ec/8a8336ff196023622fbcb36de0c5a5c218cbb24111d1d4c7f2/termcolor-1.1.0-py3-none-any.whl\n",
      "Collecting gast==0.3.3\n",
      "  Downloading gast-0.3.3-py2.py3-none-any.whl (9.7 kB)\n",
      "Requirement already satisfied: protobuf>=3.9.2 in /opt/conda/lib/python3.7/site-packages (from tensorflow) (3.15.6)\n",
      "Collecting wheel~=0.35\n",
      "  Using cached wheel-0.36.2-py2.py3-none-any.whl (35 kB)\n",
      "Collecting opt-einsum~=3.3.0\n",
      "  Downloading opt_einsum-3.3.0-py3-none-any.whl (65 kB)\n",
      "\u001b[K     |████████████████████████████████| 65 kB 216 kB/s  eta 0:00:01\n",
      "\u001b[?25hRequirement already satisfied: six~=1.15.0 in /opt/conda/lib/python3.7/site-packages (from tensorflow) (1.15.0)\n",
      "Collecting typing-extensions~=3.7.4\n",
      "  Using cached typing_extensions-3.7.4.3-py3-none-any.whl (22 kB)\n",
      "Collecting grpcio~=1.32.0\n",
      "  Downloading grpcio-1.32.0-cp37-cp37m-manylinux2014_x86_64.whl (3.8 MB)\n",
      "\u001b[K     |████████████████████████████████| 3.8 MB 1.6 kB/s  eta 0:00:01\n",
      "\u001b[?25hRequirement already satisfied: absl-py~=0.10 in /opt/conda/lib/python3.7/site-packages (from tensorflow) (0.12.0)\n",
      "Collecting wrapt~=1.12.1\n",
      "  Downloading wrapt-1.12.1.tar.gz (27 kB)\n",
      "Collecting tensorflow-estimator<2.5.0,>=2.4.0\n",
      "  Downloading tensorflow_estimator-2.4.0-py2.py3-none-any.whl (462 kB)\n",
      "\u001b[K     |████████████████████████████████| 462 kB 23.3 MB/s eta 0:00:01\n",
      "\u001b[?25hCollecting h5py~=2.10.0\n",
      "  Downloading h5py-2.10.0-cp37-cp37m-manylinux1_x86_64.whl (2.9 MB)\n",
      "\u001b[K     |████████████████████████████████| 2.9 MB 30 kB/s s eta 0:00:01     |██████████████████████████████▎ | 2.7 MB 22.3 MB/s eta 0:00:01\n",
      "\u001b[?25hRequirement already satisfied: setuptools>=41.0.0 in /opt/conda/lib/python3.7/site-packages (from tensorboard) (47.3.1.post20200616)\n",
      "Requirement already satisfied: werkzeug>=0.11.15 in /opt/conda/lib/python3.7/site-packages (from tensorboard) (1.0.1)\n",
      "Requirement already satisfied: google-auth<2,>=1.6.3 in /opt/conda/lib/python3.7/site-packages (from tensorboard) (1.28.0)\n",
      "Requirement already satisfied: markdown>=2.6.8 in /opt/conda/lib/python3.7/site-packages (from tensorboard) (3.3.4)\n",
      "Requirement already satisfied: google-auth-oauthlib<0.5,>=0.4.1 in /opt/conda/lib/python3.7/site-packages (from tensorboard) (0.4.4)\n",
      "Requirement already satisfied: tensorboard-plugin-wit>=1.6.0 in /opt/conda/lib/python3.7/site-packages (from tensorboard) (1.8.0)\n",
      "Requirement already satisfied: urllib3!=1.25.0,!=1.25.1,<1.26,>=1.21.1 in /opt/conda/lib/python3.7/site-packages (from requests<3,>=2.20.0->mxnet) (1.25.9)\n",
      "Requirement already satisfied: certifi>=2017.4.17 in /opt/conda/lib/python3.7/site-packages (from requests<3,>=2.20.0->mxnet) (2020.6.20)\n",
      "Requirement already satisfied: idna<3,>=2.5 in /opt/conda/lib/python3.7/site-packages (from requests<3,>=2.20.0->mxnet) (2.9)\n",
      "Requirement already satisfied: chardet<4,>=3.0.2 in /opt/conda/lib/python3.7/site-packages (from requests<3,>=2.20.0->mxnet) (3.0.4)\n",
      "Requirement already satisfied: distributed>=2.6.0 in /opt/conda/lib/python3.7/site-packages (from autogluon.core->gluoncv) (2021.3.1)\n",
      "Requirement already satisfied: autograd>=1.3 in /opt/conda/lib/python3.7/site-packages (from autogluon.core->gluoncv) (1.3)\n",
      "Requirement already satisfied: boto3 in /opt/conda/lib/python3.7/site-packages (from autogluon.core->gluoncv) (1.17.40)\n",
      "Requirement already satisfied: dask>=2.6.0 in /opt/conda/lib/python3.7/site-packages (from autogluon.core->gluoncv) (2021.3.1)\n",
      "Requirement already satisfied: paramiko>=2.4 in /opt/conda/lib/python3.7/site-packages (from autogluon.core->gluoncv) (2.7.2)\n",
      "Requirement already satisfied: dill==0.3.3 in /opt/conda/lib/python3.7/site-packages (from autogluon.core->gluoncv) (0.3.3)\n",
      "Requirement already satisfied: ConfigSpace==0.4.18 in /opt/conda/lib/python3.7/site-packages (from autogluon.core->gluoncv) (0.4.18)\n",
      "Requirement already satisfied: tornado>=5.0.1 in /opt/conda/lib/python3.7/site-packages (from autogluon.core->gluoncv) (6.0.4)\n",
      "Requirement already satisfied: scikit-learn<0.25,>=0.22.0 in /opt/conda/lib/python3.7/site-packages (from autogluon.core->gluoncv) (0.24.1)\n",
      "Requirement already satisfied: cython in /opt/conda/lib/python3.7/site-packages (from autogluon.core->gluoncv) (0.29.22)\n",
      "Requirement already satisfied: pyasn1-modules>=0.2.1 in /opt/conda/lib/python3.7/site-packages (from google-auth<2,>=1.6.3->tensorboard) (0.2.8)\n",
      "Requirement already satisfied: rsa<5,>=3.1.4; python_version >= \"3.6\" in /opt/conda/lib/python3.7/site-packages (from google-auth<2,>=1.6.3->tensorboard) (4.7.2)\n",
      "Requirement already satisfied: cachetools<5.0,>=2.0.0 in /opt/conda/lib/python3.7/site-packages (from google-auth<2,>=1.6.3->tensorboard) (4.2.1)\n",
      "Requirement already satisfied: importlib-metadata; python_version < \"3.8\" in /opt/conda/lib/python3.7/site-packages (from markdown>=2.6.8->tensorboard) (1.6.1)\n",
      "Requirement already satisfied: requests-oauthlib>=0.7.0 in /opt/conda/lib/python3.7/site-packages (from google-auth-oauthlib<0.5,>=0.4.1->tensorboard) (1.3.0)\n",
      "Requirement already satisfied: zict>=0.1.3 in /opt/conda/lib/python3.7/site-packages (from distributed>=2.6.0->autogluon.core->gluoncv) (2.0.0)\n",
      "Requirement already satisfied: psutil>=5.0 in /opt/conda/lib/python3.7/site-packages (from distributed>=2.6.0->autogluon.core->gluoncv) (5.8.0)\n",
      "Requirement already satisfied: toolz>=0.8.2 in /opt/conda/lib/python3.7/site-packages (from distributed>=2.6.0->autogluon.core->gluoncv) (0.11.1)\n",
      "Requirement already satisfied: tblib>=1.6.0 in /opt/conda/lib/python3.7/site-packages (from distributed>=2.6.0->autogluon.core->gluoncv) (1.7.0)\n",
      "Requirement already satisfied: cloudpickle>=1.5.0 in /opt/conda/lib/python3.7/site-packages (from distributed>=2.6.0->autogluon.core->gluoncv) (1.6.0)\n",
      "Requirement already satisfied: click>=6.6 in /opt/conda/lib/python3.7/site-packages (from distributed>=2.6.0->autogluon.core->gluoncv) (7.1.2)\n",
      "Requirement already satisfied: sortedcontainers!=2.0.0,!=2.0.1 in /opt/conda/lib/python3.7/site-packages (from distributed>=2.6.0->autogluon.core->gluoncv) (2.3.0)\n",
      "Requirement already satisfied: msgpack>=0.6.0 in /opt/conda/lib/python3.7/site-packages (from distributed>=2.6.0->autogluon.core->gluoncv) (1.0.2)\n",
      "Requirement already satisfied: future>=0.15.2 in /opt/conda/lib/python3.7/site-packages (from autograd>=1.3->autogluon.core->gluoncv) (0.18.2)\n",
      "Requirement already satisfied: jmespath<1.0.0,>=0.7.1 in /opt/conda/lib/python3.7/site-packages (from boto3->autogluon.core->gluoncv) (0.10.0)\n",
      "Requirement already satisfied: botocore<1.21.0,>=1.20.40 in /opt/conda/lib/python3.7/site-packages (from boto3->autogluon.core->gluoncv) (1.20.40)\n",
      "Requirement already satisfied: s3transfer<0.4.0,>=0.3.0 in /opt/conda/lib/python3.7/site-packages (from boto3->autogluon.core->gluoncv) (0.3.6)\n",
      "Requirement already satisfied: partd>=0.3.10 in /opt/conda/lib/python3.7/site-packages (from dask>=2.6.0->autogluon.core->gluoncv) (1.1.0)\n",
      "Requirement already satisfied: fsspec>=0.6.0 in /opt/conda/lib/python3.7/site-packages (from dask>=2.6.0->autogluon.core->gluoncv) (0.8.7)\n",
      "Requirement already satisfied: pynacl>=1.0.1 in /opt/conda/lib/python3.7/site-packages (from paramiko>=2.4->autogluon.core->gluoncv) (1.4.0)\n",
      "Requirement already satisfied: cryptography>=2.5 in /opt/conda/lib/python3.7/site-packages (from paramiko>=2.4->autogluon.core->gluoncv) (2.9.2)\n",
      "Requirement already satisfied: bcrypt>=3.1.3 in /opt/conda/lib/python3.7/site-packages (from paramiko>=2.4->autogluon.core->gluoncv) (3.2.0)\n",
      "Requirement already satisfied: joblib>=0.11 in /opt/conda/lib/python3.7/site-packages (from scikit-learn<0.25,>=0.22.0->autogluon.core->gluoncv) (1.0.1)\n",
      "Requirement already satisfied: threadpoolctl>=2.0.0 in /opt/conda/lib/python3.7/site-packages (from scikit-learn<0.25,>=0.22.0->autogluon.core->gluoncv) (2.1.0)\n",
      "Requirement already satisfied: pyasn1<0.5.0,>=0.4.6 in /opt/conda/lib/python3.7/site-packages (from pyasn1-modules>=0.2.1->google-auth<2,>=1.6.3->tensorboard) (0.4.8)\n",
      "Requirement already satisfied: zipp>=0.5 in /opt/conda/lib/python3.7/site-packages (from importlib-metadata; python_version < \"3.8\"->markdown>=2.6.8->tensorboard) (3.1.0)\n",
      "Requirement already satisfied: oauthlib>=3.0.0 in /opt/conda/lib/python3.7/site-packages (from requests-oauthlib>=0.7.0->google-auth-oauthlib<0.5,>=0.4.1->tensorboard) (3.0.1)\n",
      "Requirement already satisfied: heapdict in /opt/conda/lib/python3.7/site-packages (from zict>=0.1.3->distributed>=2.6.0->autogluon.core->gluoncv) (1.0.1)\n",
      "Requirement already satisfied: locket in /opt/conda/lib/python3.7/site-packages (from partd>=0.3.10->dask>=2.6.0->autogluon.core->gluoncv) (0.2.1)\n",
      "Requirement already satisfied: cffi>=1.4.1 in /opt/conda/lib/python3.7/site-packages (from pynacl>=1.0.1->paramiko>=2.4->autogluon.core->gluoncv) (1.14.0)\n",
      "Requirement already satisfied: pycparser in /opt/conda/lib/python3.7/site-packages (from cffi>=1.4.1->pynacl>=1.0.1->paramiko>=2.4->autogluon.core->gluoncv) (2.20)\n",
      "Building wheels for collected packages: wrapt\n",
      "  Building wheel for wrapt (setup.py) ... \u001b[?25ldone\n",
      "\u001b[?25h  Created wheel for wrapt: filename=wrapt-1.12.1-cp37-cp37m-linux_x86_64.whl size=70931 sha256=9d3225092ca775d3e2988b671ebe8a50888e0023fa8d45c5cb082f144fe0700a\n",
      "  Stored in directory: /home/jovyan/.cache/pip/wheels/62/76/4c/aa25851149f3f6d9785f6c869387ad82b3fd37582fa8147ac6\n",
      "Successfully built wrapt\n",
      "\u001b[31mERROR: tensorflow 2.4.1 has requirement numpy~=1.19.2, but you'll have numpy 1.20.2 which is incompatible.\u001b[0m\n",
      "Installing collected packages: flatbuffers, wheel, astunparse, google-pasta, keras-preprocessing, termcolor, gast, opt-einsum, typing-extensions, grpcio, wrapt, tensorflow-estimator, h5py, tensorflow\n",
      "  Attempting uninstall: wheel\n",
      "    Found existing installation: wheel 0.34.2\n",
      "    Uninstalling wheel-0.34.2:\n",
      "      Successfully uninstalled wheel-0.34.2\n",
      "  Attempting uninstall: grpcio\n",
      "    Found existing installation: grpcio 1.36.1\n",
      "    Uninstalling grpcio-1.36.1:\n",
      "      Successfully uninstalled grpcio-1.36.1\n",
      "Successfully installed astunparse-1.6.3 flatbuffers-1.12 gast-0.3.3 google-pasta-0.2.0 grpcio-1.32.0 h5py-2.10.0 keras-preprocessing-1.1.2 opt-einsum-3.3.0 tensorflow-2.4.1 tensorflow-estimator-2.4.0 termcolor-1.1.0 typing-extensions-3.7.4.3 wheel-0.36.2 wrapt-1.12.1\n"
     ]
    }
   ],
   "source": [
    "!pip3 install numpy pandas matplotlib opencv-python mxnet gluoncv tensorflow tensorboard"
   ]
  },
  {
   "cell_type": "code",
   "execution_count": 7,
   "metadata": {},
   "outputs": [
    {
     "data": {
      "text/plain": [
       "<module 'decord' from '/opt/conda/lib/python3.7/site-packages/decord/__init__.py'>"
      ]
     },
     "execution_count": 7,
     "metadata": {},
     "output_type": "execute_result"
    }
   ],
   "source": [
    "import matplotlib.pyplot as plt\n",
    "import numpy as np\n",
    "import mxnet as mx\n",
    "import os\n",
    "import cv2\n",
    "from mxnet import gluon, nd, image\n",
    "from gluoncv.data import Kinetics400\n",
    "from mxnet.gluon.data import DataLoader\n",
    "from mxnet.gluon.data.vision import transforms\n",
    "from gluoncv.data.transforms import video\n",
    "from gluoncv import utils\n",
    "from gluoncv.model_zoo import get_model\n",
    "from gluoncv.utils.filesystem import import_try_install\n",
    "import_try_install('decord')"
   ]
  },
  {
   "cell_type": "code",
   "execution_count": 29,
   "metadata": {},
   "outputs": [],
   "source": [
    "import tensorflow as tf"
   ]
  },
  {
   "cell_type": "code",
   "execution_count": 30,
   "metadata": {},
   "outputs": [
    {
     "name": "stdout",
     "output_type": "stream",
     "text": [
      "The tensorboard extension is already loaded. To reload it, use:\n",
      "  %reload_ext tensorboard\n"
     ]
    }
   ],
   "source": [
    "%load_ext tensorboard"
   ]
  },
  {
   "cell_type": "code",
   "execution_count": 8,
   "metadata": {},
   "outputs": [],
   "source": [
    "# Load dataset into memory\n",
    "transform_val = transforms.Compose([\n",
    "    video.VideoCenterCrop(size=224),\n",
    "    video.VideoToTensor()\n",
    "])\n",
    "\n",
    "val_dataset = Kinetics400(root=os.path.expanduser('./val/'), \n",
    "                          train=False,\n",
    "                          transform=transform_val, \n",
    "                          video_loader=True, \n",
    "                          use_decord=True)\n",
    "val_data = DataLoader(val_dataset, batch_size=8, shuffle=True)"
   ]
  },
  {
   "cell_type": "code",
   "execution_count": 9,
   "metadata": {},
   "outputs": [
    {
     "name": "stdout",
     "output_type": "stream",
     "text": [
      "Video frame size (batch, extra, channel, depth, height, width): (8, 1, 3, 224, 224)\n",
      "Video label: (8,)\n"
     ]
    }
   ],
   "source": [
    "for x, y in val_data:\n",
    "    print('Video frame size (batch, extra, channel, depth, height, width):', x.shape)\n",
    "    print('Video label:', y.shape)\n",
    "    break"
   ]
  },
  {
   "cell_type": "code",
   "execution_count": 14,
   "metadata": {},
   "outputs": [],
   "source": [
    "# For running on a random sample of 250 videos\n",
    "import pandas as pd\n",
    "\n",
    "val_dataset = pd.read_csv(\"~/.mxnet/datasets/kinetics400/kinetics400_train_list_rawframes.txt\", \n",
    "                          header=None, \n",
    "                          delimiter=r\"\\s+\",\n",
    "                          names=[\"path\", \"frames\", \"class\"])\n",
    "val_dataset.drop([\"frames\"], axis=1, inplace=True)\n",
    "271\n",
    "\n",
    "val_dataset['path'] = '../val/' + val_dataset['path'].astype(str) + \".mp4\"\n",
    "val_dataset.sample(n=16).to_csv('test.csv', header=False, index=False, sep=' ')"
   ]
  },
  {
   "cell_type": "code",
   "execution_count": 13,
   "metadata": {},
   "outputs": [],
   "source": [
    "# Run this cell to get results on the full size\n",
    "val_dataset = pd.read_csv(\"~/.mxnet/datasets/kinetics400/kinetics400_train_list_rawframes.txt\", \n",
    "                          header=None, \n",
    "                          delimiter=r\"\\s+\",\n",
    "                          names=[\"path\", \"frames\", \"class\"])\n",
    "val_dataset.drop([\"frames\"], axis=1, inplace=True)\n",
    "271\n",
    "\n",
    "val_dataset['path'] = '../val/' + val_dataset['path'].astype(str) + \".mp4\"\n",
    "val_dataset.to_csv('val.csv', header=False, index=False, sep=' ')"
   ]
  },
  {
   "cell_type": "raw",
   "metadata": {},
   "source": [
    "# Run this in the slowfast directory to see results and save output to file\n",
    "python3 tools/run_net.py \\\n",
    "    --cfg configs/Kinetics/X3D_M.yaml \\\n",
    "    DATA.PATH_TO_DATA_DIR \"../\" \\\n",
    "    DATA.PATH_LABEL_SEPARATOR \" \" \\\n",
    "    DATA.DECODING_BACKEND \"pyav\" \\\n",
    "    TRAIN.ENABLE False \\\n",
    "    DATA_LOADER.NUM_WORKERS 0 \\\n",
    "    NUM_GPUS 1 \\\n",
    "    TEST.BATCH_SIZE 4 \\\n",
    "    TENSORBOARD.ENABLE True \\\n",
    "    |& tee \"/home/jovyan/asarjoo/ActionRecognitionAdversarialML/[filename].txt\""
   ]
  },
  {
   "cell_type": "code",
   "execution_count": 26,
   "metadata": {},
   "outputs": [
    {
     "name": "stdout",
     "output_type": "stream",
     "text": [
      "/bin/sh: 1: kill: No such process\n",
      "\n"
     ]
    }
   ],
   "source": [
    "!kill 955"
   ]
  },
  {
   "cell_type": "code",
   "execution_count": 31,
   "metadata": {},
   "outputs": [
    {
     "data": {
      "text/plain": [
       "Reusing TensorBoard on port 6006 (pid 2224), started 0:18:18 ago. (Use '!kill 2224' to kill it.)"
      ]
     },
     "metadata": {},
     "output_type": "display_data"
    },
    {
     "data": {
      "text/html": [
       "\n",
       "      <iframe id=\"tensorboard-frame-2c64fb661af7828e\" width=\"100%\" height=\"800\" frameborder=\"0\">\n",
       "      </iframe>\n",
       "      <script>\n",
       "        (function() {\n",
       "          const frame = document.getElementById(\"tensorboard-frame-2c64fb661af7828e\");\n",
       "          const url = new URL(\"/\", window.location);\n",
       "          const port = 6006;\n",
       "          if (port) {\n",
       "            url.port = port;\n",
       "          }\n",
       "          frame.src = url;\n",
       "        })();\n",
       "      </script>\n",
       "    "
      ],
      "text/plain": [
       "<IPython.core.display.HTML object>"
      ]
     },
     "metadata": {},
     "output_type": "display_data"
    }
   ],
   "source": [
    "%tensorboard --logdir ./slowfast/runs-kinetics --host=localhost"
   ]
  },
  {
   "cell_type": "code",
   "execution_count": null,
   "metadata": {},
   "outputs": [],
   "source": []
  }
 ],
 "metadata": {
  "kernelspec": {
   "display_name": "Python 3",
   "language": "python",
   "name": "python3"
  },
  "language_info": {
   "codemirror_mode": {
    "name": "ipython",
    "version": 3
   },
   "file_extension": ".py",
   "mimetype": "text/x-python",
   "name": "python",
   "nbconvert_exporter": "python",
   "pygments_lexer": "ipython3",
   "version": "3.7.7"
  }
 },
 "nbformat": 4,
 "nbformat_minor": 4
}
